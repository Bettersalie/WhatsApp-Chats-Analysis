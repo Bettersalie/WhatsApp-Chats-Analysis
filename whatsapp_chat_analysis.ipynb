
{
 "cells": [
  {
   "cell_type": "markdown",
   "metadata": {},
   "source": [
    "# 📊 WhatsApp Chat Data Analysis\n",
    "This project analyzes a WhatsApp chat export using Python.\n",
    "We explore message frequency, user activity, and text patterns."
   ]
  },
  {
   "cell_type": "markdown",
   "metadata": {},
   "source": [
    "## 🔧 Step 1: Load and Preprocess Data"
   ]
  },
  {
   "cell_type": "code",
   "execution_count": null,
   "metadata": {},
   "outputs": [],
   "source": [
    "import pandas as pd\n",
    "import re\n",
    "from datetime import datetime\n",
    "\n",
    "# Load chat file\n",
    "with open("chat.txt", encoding="utf-8") as file:\n",
    "    data = file.readlines()\n",
    "\n",
    "# Regex pattern\n",
    "pattern = r'^(\\d{1,2}/\\d{1,2}/\\d{2,4}), (\\d{1,2}:\\d{2}) (AM|PM|am|pm)? - (.*?): (.*)$'\n",
    "messages = []\n",
    "for line in data:\n",
    "    match = re.match(pattern, line)\n",
    "    if match:\n",
    "        date = match.group(1)\n",
    "        time = match.group(2)\n",
    "        am_pm = match.group(3) or ''\n",
    "        sender = match.group(4)\n",
    "        message = match.group(5)\n",
    "        datetime_str = f"{date} {time} {am_pm}".strip()\n",
    "        try:\n",
    "            timestamp = pd.to_datetime(datetime_str)\n",
    "            messages.append([timestamp, sender, message])\n",
    "        except:\n",
    "            continue\n",
    "\n",
    "df = pd.DataFrame(messages, columns=["datetime", "sender", "message"])\n",
    "df.head()"
   ]
  },
  {
   "cell_type": "markdown",
   "metadata": {},
   "source": [
    "## 📅 Step 2: Feature Engineering"
   ]
  },
  {
   "cell_type": "code",
   "execution_count": null,
   "metadata": {},
   "outputs": [],
   "source": [
    "df["date"] = df["datetime"].dt.date\n",
    "df["hour"] = df["datetime"].dt.hour\n",
    "df["weekday"] = df["datetime"].dt.day_name()\n",
    "df.head()"
   ]
  },
  {
   "cell_type": "markdown",
   "metadata": {},
   "source": [
    "## 📊 Step 3: Analysis & Visualizations"
   ]
  },
  {
   "cell_type": "code",
   "execution_count": null,
   "metadata": {},
   "outputs": [],
   "source": [
    "import matplotlib.pyplot as plt\n",
    "import seaborn as sns\n",
    "sns.set(style="whitegrid")\n",
    "\n",
    "# Messages per Sender\n",
    "df["sender"].value_counts().plot(kind="bar", title="Messages per Sender", figsize=(10,5), color="skyblue")\n",
    "plt.ylabel("Number of Messages")\n",
    "plt.show()"
   ]
  },
  {
   "cell_type": "code",
   "execution_count": null,
   "metadata": {},
   "outputs": [],
   "source": [
    "# Messages over Time\n",
    "df.groupby("date").size().plot(title="Messages Over Time", figsize=(12,5), color="green")\n",
    "plt.ylabel("Message Count")\n",
    "plt.show()"
   ]
  },
  {
   "cell_type": "code",
   "execution_count": null,
   "metadata": {},
   "outputs": [],
   "source": [
    "# Active Hours\n",
    "df["hour"].value_counts().sort_index().plot(kind="bar", title="Most Active Hours", color="orange")\n",
    "plt.xlabel("Hour of Day")\n",
    "plt.ylabel("Message Count")\n",
    "plt.show()"
   ]
  },
  {
   "cell_type": "markdown",
   "metadata": {},
   "source": [
    "## 🗣️ Step 4: Most Common Words"
   ]
  },
  {
   "cell_type": "code",
   "execution_count": null,
   "metadata": {},
   "outputs": [],
   "source": [
    "from collections import Counter\n",
    "import string\n",
    "\n",
    "def clean_text(text):\n",
    "    text = text.lower()\n",
    "    return text.translate(str.maketrans('', '', string.punctuation))\n",
    "\n",
    "words = " ".join(df["message"]).split()\n",
    "words = [clean_text(word) for word in words if len(word) > 2]\n",
    "common_words = Counter(words).most_common(20)\n",
    "\n",
    "pd.DataFrame(common_words, columns=["Word", "Frequency"]).plot.bar(x="Word", y="Frequency", figsize=(10,5), color="purple")\n",
    "plt.title("Most Common Words")\n",
    "plt.show()"
   ]
  },
  {
   "cell_type": "markdown",
   "metadata": {},
   "source": [
    "## ✅ Step 5: Summary\n",
    "- Who sends the most messages?\n",
    "- What time of day is busiest?\n",
    "- What are the most common words used?\n",
    "\n",
    "You can continue exploring response time, emoji usage, or add word cloud visualizations."
   ]
  }
 ],
 "metadata": {
  "kernelspec": {
   "display_name": "Python 3",
   "language": "python",
   "name": "python3"
  },
  "language_info": {
   "name": "python",
   "version": ""
  }
 },
 "nbformat": 4,
 "nbformat_minor": 5
}
